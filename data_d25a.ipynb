{
 "cells": [
  {
   "metadata": {},
   "cell_type": "markdown",
   "source": [
    "# data_d25a.ipynb\n",
    "1. Time series: for global mean, relative, and geocentric at gauges, save fusion, low, central, high, and high-end projections for 2020–2100.\n",
    "2. Year-2100: low, central, high, and high-end projections for gauge/grid locations and cities.\n",
    "\n",
    "Author: Benjamin S. Grandey."
   ],
   "id": "ac230d2e922e41c4"
  },
  {
   "metadata": {
    "ExecuteTime": {
     "end_time": "2025-07-24T09:36:41.266192Z",
     "start_time": "2025-07-24T09:36:39.932386Z"
    }
   },
   "cell_type": "code",
   "source": [
    "import d25a\n",
    "import datetime"
   ],
   "id": "5c52dfd4b92a9753",
   "outputs": [],
   "execution_count": 1
  },
  {
   "metadata": {
    "ExecuteTime": {
     "end_time": "2025-07-24T09:36:41.359925Z",
     "start_time": "2025-07-24T09:36:41.356860Z"
    }
   },
   "cell_type": "code",
   "source": [
    "# Get start datetime\n",
    "start_dt = datetime.datetime.now()"
   ],
   "id": "48924b4bec9cd18b",
   "outputs": [],
   "execution_count": 2
  },
  {
   "metadata": {
    "ExecuteTime": {
     "end_time": "2025-07-24T09:36:41.446557Z",
     "start_time": "2025-07-24T09:36:41.425686Z"
    }
   },
   "cell_type": "code",
   "source": [
    "# Print package versions\n",
    "print(d25a.get_watermark())"
   ],
   "id": "c523aa565d8149a1",
   "outputs": [
    {
     "name": "stdout",
     "output_type": "stream",
     "text": [
      "Python implementation: CPython\n",
      "Python version       : 3.10.16\n",
      "IPython version      : 8.31.0\n",
      "\n",
      "matplotlib: 3.10.0\n",
      "numpy     : 2.2.2\n",
      "pandas    : 2.2.3\n",
      "seaborn   : 0.13.2\n",
      "xarray    : 2025.1.1\n",
      "\n",
      "conda environment: d25a-rsl-fusion\n",
      "\n",
      "Compiler    : Clang 18.1.8 \n",
      "OS          : Darwin\n",
      "Release     : 22.6.0\n",
      "Machine     : arm64\n",
      "Processor   : arm\n",
      "CPU cores   : 8\n",
      "Architecture: 64bit\n",
      "\n"
     ]
    }
   ],
   "execution_count": 3
  },
  {
   "metadata": {},
   "cell_type": "markdown",
   "source": "## 1. Time series of global mean, relative, and geocentric sea level for fusion, low, central, high, and high-end projections",
   "id": "9648d1c0a1eb8416"
  },
  {
   "metadata": {
    "ExecuteTime": {
     "end_time": "2025-07-24T09:37:20.178914Z",
     "start_time": "2025-07-24T09:36:41.465342Z"
    }
   },
   "cell_type": "code",
   "source": [
    "# Loop over global mean, relative, and geocentric sea level\n",
    "for slr_str in ('gmsl', 'rsl', 'novlm'):\n",
    "    # Loop over fusion, low etc projections\n",
    "    for proj_str in ('fusion-ssp585', 'fusion-ssp126', 'low-end', 'low', 'central', 'high', 'high-end'):\n",
    "        # Get and write projection time series\n",
    "        _ = d25a.write_time_series_da(slr_str=slr_str, proj_str=proj_str)"
   ],
   "id": "a092f8568d5bcb76",
   "outputs": [
    {
     "name": "stdout",
     "output_type": "stream",
     "text": [
      "Writing time_series/gmsl_fusion-ssp585_d25a.nc\n",
      "Writing time_series/gmsl_fusion-ssp126_d25a.nc\n",
      "Writing time_series/gmsl_low-end_d25a.nc\n",
      "Writing time_series/gmsl_low_d25a.nc\n",
      "Writing time_series/gmsl_central_d25a.nc\n",
      "Writing time_series/gmsl_high_d25a.nc\n",
      "Writing time_series/gmsl_high-end_d25a.nc\n",
      "Writing time_series/rsl_fusion-ssp585_d25a.nc (1631 locations)\n",
      "Writing time_series/rsl_fusion-ssp126_d25a.nc (1631 locations)\n",
      "Writing time_series/rsl_low-end_d25a.nc (1631 locations)\n",
      "Writing time_series/rsl_low_d25a.nc (1631 locations)\n",
      "Writing time_series/rsl_central_d25a.nc (1631 locations)\n",
      "Writing time_series/rsl_high_d25a.nc (1631 locations)\n",
      "Writing time_series/rsl_high-end_d25a.nc (1631 locations)\n",
      "Writing time_series/novlm_fusion-ssp585_d25a.nc (1631 locations)\n",
      "Writing time_series/novlm_fusion-ssp126_d25a.nc (1631 locations)\n",
      "Writing time_series/novlm_low-end_d25a.nc (1631 locations)\n",
      "Writing time_series/novlm_low_d25a.nc (1631 locations)\n",
      "Writing time_series/novlm_central_d25a.nc (1631 locations)\n",
      "Writing time_series/novlm_high_d25a.nc (1631 locations)\n",
      "Writing time_series/novlm_high-end_d25a.nc (1631 locations)\n"
     ]
    }
   ],
   "execution_count": 4
  },
  {
   "metadata": {
    "ExecuteTime": {
     "end_time": "2025-07-24T09:38:08.692666Z",
     "start_time": "2025-07-24T09:37:20.198752Z"
    }
   },
   "cell_type": "code",
   "source": [
    "# Get and write locations information DataFrame to CSV\n",
    "_ = d25a.write_locations_info_df()\n",
    "# Read locations\n",
    "locations_info_df = d25a.read_locations_info_df()\n",
    "locations_info_df.head()"
   ],
   "id": "b856f3981f38eebd",
   "outputs": [
    {
     "name": "stdout",
     "output_type": "stream",
     "text": [
      "Writing time_series/locations_info_d25a.csv (1631 locations)\n",
      "Reading time_series/locations_info_d25a.csv\n"
     ]
    },
    {
     "data": {
      "text/plain": [
       "            lat    lon  gauge_id   gauge_name   gauge_country\n",
       "location                                                     \n",
       "1         48.38  -4.49         1        BREST          FRANCE\n",
       "2         53.92  14.23         2  SWINOUJSCIE          POLAND\n",
       "3         51.45   0.74         3    SHEERNESS  UNITED KINGDOM\n",
       "5         53.31  -4.62         5     HOLYHEAD  UNITED KINGDOM\n",
       "7         53.87   8.72         7   CUXHAVEN_2         GERMANY"
      ],
      "text/html": [
       "<div>\n",
       "<style scoped>\n",
       "    .dataframe tbody tr th:only-of-type {\n",
       "        vertical-align: middle;\n",
       "    }\n",
       "\n",
       "    .dataframe tbody tr th {\n",
       "        vertical-align: top;\n",
       "    }\n",
       "\n",
       "    .dataframe thead th {\n",
       "        text-align: right;\n",
       "    }\n",
       "</style>\n",
       "<table border=\"1\" class=\"dataframe\">\n",
       "  <thead>\n",
       "    <tr style=\"text-align: right;\">\n",
       "      <th></th>\n",
       "      <th>lat</th>\n",
       "      <th>lon</th>\n",
       "      <th>gauge_id</th>\n",
       "      <th>gauge_name</th>\n",
       "      <th>gauge_country</th>\n",
       "    </tr>\n",
       "    <tr>\n",
       "      <th>location</th>\n",
       "      <th></th>\n",
       "      <th></th>\n",
       "      <th></th>\n",
       "      <th></th>\n",
       "      <th></th>\n",
       "    </tr>\n",
       "  </thead>\n",
       "  <tbody>\n",
       "    <tr>\n",
       "      <th>1</th>\n",
       "      <td>48.38</td>\n",
       "      <td>-4.49</td>\n",
       "      <td>1</td>\n",
       "      <td>BREST</td>\n",
       "      <td>FRANCE</td>\n",
       "    </tr>\n",
       "    <tr>\n",
       "      <th>2</th>\n",
       "      <td>53.92</td>\n",
       "      <td>14.23</td>\n",
       "      <td>2</td>\n",
       "      <td>SWINOUJSCIE</td>\n",
       "      <td>POLAND</td>\n",
       "    </tr>\n",
       "    <tr>\n",
       "      <th>3</th>\n",
       "      <td>51.45</td>\n",
       "      <td>0.74</td>\n",
       "      <td>3</td>\n",
       "      <td>SHEERNESS</td>\n",
       "      <td>UNITED KINGDOM</td>\n",
       "    </tr>\n",
       "    <tr>\n",
       "      <th>5</th>\n",
       "      <td>53.31</td>\n",
       "      <td>-4.62</td>\n",
       "      <td>5</td>\n",
       "      <td>HOLYHEAD</td>\n",
       "      <td>UNITED KINGDOM</td>\n",
       "    </tr>\n",
       "    <tr>\n",
       "      <th>7</th>\n",
       "      <td>53.87</td>\n",
       "      <td>8.72</td>\n",
       "      <td>7</td>\n",
       "      <td>CUXHAVEN_2</td>\n",
       "      <td>GERMANY</td>\n",
       "    </tr>\n",
       "  </tbody>\n",
       "</table>\n",
       "</div>"
      ]
     },
     "execution_count": 5,
     "metadata": {},
     "output_type": "execute_result"
    }
   ],
   "execution_count": 5
  },
  {
   "metadata": {},
   "cell_type": "markdown",
   "source": "## 2. Year-2100 projections for gauge/grid locations and cities",
   "id": "77ec56b8c15f88ce"
  },
  {
   "metadata": {
    "ExecuteTime": {
     "end_time": "2025-07-24T09:38:26.577305Z",
     "start_time": "2025-07-24T09:38:08.747969Z"
    }
   },
   "cell_type": "code",
   "source": [
    "for slr_str in ('rsl', 'novlm'):\n",
    "    for gauges_str in ('gauges', 'grid'):\n",
    "        for cities_str in (None, 'cities', 'megacities'):\n",
    "            _ = d25a.write_year_2100_df(slr_str=slr_str, gauges_str=gauges_str, cities_str=cities_str)"
   ],
   "id": "1be8e57955505d40",
   "outputs": [
    {
     "name": "stdout",
     "output_type": "stream",
     "text": [
      "Reading time_series/locations_info_d25a.csv\n",
      "Reading time_series/rsl_low-end_d25a.nc\n",
      "Reading time_series/rsl_low_d25a.nc\n",
      "Reading time_series/rsl_central_d25a.nc\n",
      "Reading time_series/rsl_high_d25a.nc\n",
      "Reading time_series/rsl_high-end_d25a.nc\n",
      "Writing year_2100/rsl_gauges_2100_d25a.csv (1016 locations)\n",
      "Reading time_series/locations_info_d25a.csv\n",
      "Reading time_series/rsl_low-end_d25a.nc\n",
      "Reading time_series/rsl_low_d25a.nc\n",
      "Reading time_series/rsl_central_d25a.nc\n",
      "Reading time_series/rsl_high_d25a.nc\n",
      "Reading time_series/rsl_high-end_d25a.nc\n",
      "430 out of 876 cities have a gauges rsl projection\n",
      "Writing year_2100/rsl_gauges_cities_2100_d25a.csv (430 locations)\n",
      "Reading time_series/locations_info_d25a.csv\n",
      "Reading time_series/rsl_low-end_d25a.nc\n",
      "Reading time_series/rsl_low_d25a.nc\n",
      "Reading time_series/rsl_central_d25a.nc\n",
      "Reading time_series/rsl_high_d25a.nc\n",
      "Reading time_series/rsl_high-end_d25a.nc\n",
      "33 out of 48 megacities have a gauges rsl projection\n",
      "Writing year_2100/rsl_gauges_megacities_2100_d25a.csv (33 locations)\n",
      "Reading time_series/locations_info_d25a.csv\n",
      "Reading time_series/rsl_low-end_d25a.nc\n",
      "Reading time_series/rsl_low_d25a.nc\n",
      "Reading time_series/rsl_central_d25a.nc\n",
      "Reading time_series/rsl_high_d25a.nc\n",
      "Reading time_series/rsl_high-end_d25a.nc\n",
      "Writing year_2100/rsl_grid_2100_d25a.csv (615 locations)\n",
      "Reading time_series/locations_info_d25a.csv\n",
      "Reading time_series/rsl_low-end_d25a.nc\n",
      "Reading time_series/rsl_low_d25a.nc\n",
      "Reading time_series/rsl_central_d25a.nc\n",
      "Reading time_series/rsl_high_d25a.nc\n",
      "Reading time_series/rsl_high-end_d25a.nc\n",
      "875 out of 876 cities have a grid rsl projection\n",
      "Writing year_2100/rsl_grid_cities_2100_d25a.csv (875 locations)\n",
      "Reading time_series/locations_info_d25a.csv\n",
      "Reading time_series/rsl_low-end_d25a.nc\n",
      "Reading time_series/rsl_low_d25a.nc\n",
      "Reading time_series/rsl_central_d25a.nc\n",
      "Reading time_series/rsl_high_d25a.nc\n",
      "Reading time_series/rsl_high-end_d25a.nc\n",
      "48 out of 48 megacities have a grid rsl projection\n",
      "Writing year_2100/rsl_grid_megacities_2100_d25a.csv (48 locations)\n",
      "Reading time_series/locations_info_d25a.csv\n",
      "Reading time_series/novlm_low-end_d25a.nc\n",
      "Reading time_series/novlm_low_d25a.nc\n",
      "Reading time_series/novlm_central_d25a.nc\n",
      "Reading time_series/novlm_high_d25a.nc\n",
      "Reading time_series/novlm_high-end_d25a.nc\n",
      "Writing year_2100/novlm_gauges_2100_d25a.csv (1016 locations)\n",
      "Reading time_series/locations_info_d25a.csv\n",
      "Reading time_series/novlm_low-end_d25a.nc\n",
      "Reading time_series/novlm_low_d25a.nc\n",
      "Reading time_series/novlm_central_d25a.nc\n",
      "Reading time_series/novlm_high_d25a.nc\n",
      "Reading time_series/novlm_high-end_d25a.nc\n",
      "430 out of 876 cities have a gauges novlm projection\n",
      "Writing year_2100/novlm_gauges_cities_2100_d25a.csv (430 locations)\n",
      "Reading time_series/locations_info_d25a.csv\n",
      "Reading time_series/novlm_low-end_d25a.nc\n",
      "Reading time_series/novlm_low_d25a.nc\n",
      "Reading time_series/novlm_central_d25a.nc\n",
      "Reading time_series/novlm_high_d25a.nc\n",
      "Reading time_series/novlm_high-end_d25a.nc\n",
      "33 out of 48 megacities have a gauges novlm projection\n",
      "Writing year_2100/novlm_gauges_megacities_2100_d25a.csv (33 locations)\n",
      "Reading time_series/locations_info_d25a.csv\n",
      "Reading time_series/novlm_low-end_d25a.nc\n",
      "Reading time_series/novlm_low_d25a.nc\n",
      "Reading time_series/novlm_central_d25a.nc\n",
      "Reading time_series/novlm_high_d25a.nc\n",
      "Reading time_series/novlm_high-end_d25a.nc\n",
      "Writing year_2100/novlm_grid_2100_d25a.csv (615 locations)\n",
      "Reading time_series/locations_info_d25a.csv\n",
      "Reading time_series/novlm_low-end_d25a.nc\n",
      "Reading time_series/novlm_low_d25a.nc\n",
      "Reading time_series/novlm_central_d25a.nc\n",
      "Reading time_series/novlm_high_d25a.nc\n",
      "Reading time_series/novlm_high-end_d25a.nc\n",
      "875 out of 876 cities have a grid novlm projection\n",
      "Writing year_2100/novlm_grid_cities_2100_d25a.csv (875 locations)\n",
      "Reading time_series/locations_info_d25a.csv\n",
      "Reading time_series/novlm_low-end_d25a.nc\n",
      "Reading time_series/novlm_low_d25a.nc\n",
      "Reading time_series/novlm_central_d25a.nc\n",
      "Reading time_series/novlm_high_d25a.nc\n",
      "Reading time_series/novlm_high-end_d25a.nc\n",
      "48 out of 48 megacities have a grid novlm projection\n",
      "Writing year_2100/novlm_grid_megacities_2100_d25a.csv (48 locations)\n"
     ]
    }
   ],
   "execution_count": 6
  },
  {
   "metadata": {
    "ExecuteTime": {
     "end_time": "2025-07-24T09:38:26.615598Z",
     "start_time": "2025-07-24T09:38:26.610917Z"
    }
   },
   "cell_type": "code",
   "source": [
    "# Get end datetime\n",
    "end_dt = datetime.datetime.now()\n",
    "# Calculate run timedelta\n",
    "run_td = end_dt - start_dt\n",
    "# Print timing information\n",
    "print(f\"Start:     {start_dt.strftime('%Y-%m-%d %H:%M:%S')}\")\n",
    "print(f\"End:       {end_dt.strftime('%Y-%m-%d %H:%M:%S')}\")\n",
    "print(f\"Wall time: {run_td.seconds} s\")"
   ],
   "id": "b82442286e16acd6",
   "outputs": [
    {
     "name": "stdout",
     "output_type": "stream",
     "text": [
      "Start:     2025-07-24 17:36:41\n",
      "End:       2025-07-24 17:38:26\n",
      "Wall time: 105 s\n"
     ]
    }
   ],
   "execution_count": 7
  }
 ],
 "metadata": {
  "kernelspec": {
   "display_name": "Python [conda env:d25a-rsl-fusion]",
   "language": "python",
   "name": "conda-env-d25a-rsl-fusion-py"
  },
  "language_info": {
   "codemirror_mode": {
    "name": "ipython",
    "version": 2
   },
   "file_extension": ".py",
   "mimetype": "text/x-python",
   "name": "python",
   "nbconvert_exporter": "python",
   "pygments_lexer": "ipython2",
   "version": "2.7.6"
  }
 },
 "nbformat": 4,
 "nbformat_minor": 5
}
